{
 "cells": [
  {
   "cell_type": "code",
   "execution_count": 1,
   "id": "b28fb52b",
   "metadata": {},
   "outputs": [],
   "source": [
    "import tensorflow as tf\n",
    "from tensorflow import keras\n",
    "from tensorflow.keras import layers\n",
    "import numpy as np\n",
    "import pandas as pd\n",
    "import matplotlib.pyplot as plt"
   ]
  },
  {
   "cell_type": "code",
   "execution_count": 2,
   "id": "191dbad1",
   "metadata": {},
   "outputs": [
    {
     "name": "stdout",
     "output_type": "stream",
     "text": [
      "Tensorflow version: 2.10.0\n"
     ]
    }
   ],
   "source": [
    "print(\"Tensorflow version: {}\".format(tf.__version__))"
   ]
  },
  {
   "cell_type": "code",
   "execution_count": 3,
   "id": "713aed70",
   "metadata": {},
   "outputs": [],
   "source": [
    "data = pd.read_csv(\"./dataset/Tweets.csv\")"
   ]
  },
  {
   "cell_type": "code",
   "execution_count": 4,
   "id": "75babaf4",
   "metadata": {},
   "outputs": [
    {
     "data": {
      "text/html": [
       "<div>\n",
       "<style scoped>\n",
       "    .dataframe tbody tr th:only-of-type {\n",
       "        vertical-align: middle;\n",
       "    }\n",
       "\n",
       "    .dataframe tbody tr th {\n",
       "        vertical-align: top;\n",
       "    }\n",
       "\n",
       "    .dataframe thead th {\n",
       "        text-align: right;\n",
       "    }\n",
       "</style>\n",
       "<table border=\"1\" class=\"dataframe\">\n",
       "  <thead>\n",
       "    <tr style=\"text-align: right;\">\n",
       "      <th></th>\n",
       "      <th>tweet_id</th>\n",
       "      <th>airline_sentiment</th>\n",
       "      <th>airline_sentiment_confidence</th>\n",
       "      <th>negativereason</th>\n",
       "      <th>negativereason_confidence</th>\n",
       "      <th>airline</th>\n",
       "      <th>airline_sentiment_gold</th>\n",
       "      <th>name</th>\n",
       "      <th>negativereason_gold</th>\n",
       "      <th>retweet_count</th>\n",
       "      <th>text</th>\n",
       "      <th>tweet_coord</th>\n",
       "      <th>tweet_created</th>\n",
       "      <th>tweet_location</th>\n",
       "      <th>user_timezone</th>\n",
       "    </tr>\n",
       "  </thead>\n",
       "  <tbody>\n",
       "    <tr>\n",
       "      <th>0</th>\n",
       "      <td>570306133677760513</td>\n",
       "      <td>neutral</td>\n",
       "      <td>1.0000</td>\n",
       "      <td>NaN</td>\n",
       "      <td>NaN</td>\n",
       "      <td>Virgin America</td>\n",
       "      <td>NaN</td>\n",
       "      <td>cairdin</td>\n",
       "      <td>NaN</td>\n",
       "      <td>0</td>\n",
       "      <td>@VirginAmerica What @dhepburn said.</td>\n",
       "      <td>NaN</td>\n",
       "      <td>2015-02-24 11:35:52 -0800</td>\n",
       "      <td>NaN</td>\n",
       "      <td>Eastern Time (US &amp; Canada)</td>\n",
       "    </tr>\n",
       "    <tr>\n",
       "      <th>1</th>\n",
       "      <td>570301130888122368</td>\n",
       "      <td>positive</td>\n",
       "      <td>0.3486</td>\n",
       "      <td>NaN</td>\n",
       "      <td>0.0000</td>\n",
       "      <td>Virgin America</td>\n",
       "      <td>NaN</td>\n",
       "      <td>jnardino</td>\n",
       "      <td>NaN</td>\n",
       "      <td>0</td>\n",
       "      <td>@VirginAmerica plus you've added commercials t...</td>\n",
       "      <td>NaN</td>\n",
       "      <td>2015-02-24 11:15:59 -0800</td>\n",
       "      <td>NaN</td>\n",
       "      <td>Pacific Time (US &amp; Canada)</td>\n",
       "    </tr>\n",
       "    <tr>\n",
       "      <th>2</th>\n",
       "      <td>570301083672813571</td>\n",
       "      <td>neutral</td>\n",
       "      <td>0.6837</td>\n",
       "      <td>NaN</td>\n",
       "      <td>NaN</td>\n",
       "      <td>Virgin America</td>\n",
       "      <td>NaN</td>\n",
       "      <td>yvonnalynn</td>\n",
       "      <td>NaN</td>\n",
       "      <td>0</td>\n",
       "      <td>@VirginAmerica I didn't today... Must mean I n...</td>\n",
       "      <td>NaN</td>\n",
       "      <td>2015-02-24 11:15:48 -0800</td>\n",
       "      <td>Lets Play</td>\n",
       "      <td>Central Time (US &amp; Canada)</td>\n",
       "    </tr>\n",
       "    <tr>\n",
       "      <th>3</th>\n",
       "      <td>570301031407624196</td>\n",
       "      <td>negative</td>\n",
       "      <td>1.0000</td>\n",
       "      <td>Bad Flight</td>\n",
       "      <td>0.7033</td>\n",
       "      <td>Virgin America</td>\n",
       "      <td>NaN</td>\n",
       "      <td>jnardino</td>\n",
       "      <td>NaN</td>\n",
       "      <td>0</td>\n",
       "      <td>@VirginAmerica it's really aggressive to blast...</td>\n",
       "      <td>NaN</td>\n",
       "      <td>2015-02-24 11:15:36 -0800</td>\n",
       "      <td>NaN</td>\n",
       "      <td>Pacific Time (US &amp; Canada)</td>\n",
       "    </tr>\n",
       "    <tr>\n",
       "      <th>4</th>\n",
       "      <td>570300817074462722</td>\n",
       "      <td>negative</td>\n",
       "      <td>1.0000</td>\n",
       "      <td>Can't Tell</td>\n",
       "      <td>1.0000</td>\n",
       "      <td>Virgin America</td>\n",
       "      <td>NaN</td>\n",
       "      <td>jnardino</td>\n",
       "      <td>NaN</td>\n",
       "      <td>0</td>\n",
       "      <td>@VirginAmerica and it's a really big bad thing...</td>\n",
       "      <td>NaN</td>\n",
       "      <td>2015-02-24 11:14:45 -0800</td>\n",
       "      <td>NaN</td>\n",
       "      <td>Pacific Time (US &amp; Canada)</td>\n",
       "    </tr>\n",
       "  </tbody>\n",
       "</table>\n",
       "</div>"
      ],
      "text/plain": [
       "             tweet_id airline_sentiment  airline_sentiment_confidence  \\\n",
       "0  570306133677760513           neutral                        1.0000   \n",
       "1  570301130888122368          positive                        0.3486   \n",
       "2  570301083672813571           neutral                        0.6837   \n",
       "3  570301031407624196          negative                        1.0000   \n",
       "4  570300817074462722          negative                        1.0000   \n",
       "\n",
       "  negativereason  negativereason_confidence         airline  \\\n",
       "0            NaN                        NaN  Virgin America   \n",
       "1            NaN                     0.0000  Virgin America   \n",
       "2            NaN                        NaN  Virgin America   \n",
       "3     Bad Flight                     0.7033  Virgin America   \n",
       "4     Can't Tell                     1.0000  Virgin America   \n",
       "\n",
       "  airline_sentiment_gold        name negativereason_gold  retweet_count  \\\n",
       "0                    NaN     cairdin                 NaN              0   \n",
       "1                    NaN    jnardino                 NaN              0   \n",
       "2                    NaN  yvonnalynn                 NaN              0   \n",
       "3                    NaN    jnardino                 NaN              0   \n",
       "4                    NaN    jnardino                 NaN              0   \n",
       "\n",
       "                                                text tweet_coord  \\\n",
       "0                @VirginAmerica What @dhepburn said.         NaN   \n",
       "1  @VirginAmerica plus you've added commercials t...         NaN   \n",
       "2  @VirginAmerica I didn't today... Must mean I n...         NaN   \n",
       "3  @VirginAmerica it's really aggressive to blast...         NaN   \n",
       "4  @VirginAmerica and it's a really big bad thing...         NaN   \n",
       "\n",
       "               tweet_created tweet_location               user_timezone  \n",
       "0  2015-02-24 11:35:52 -0800            NaN  Eastern Time (US & Canada)  \n",
       "1  2015-02-24 11:15:59 -0800            NaN  Pacific Time (US & Canada)  \n",
       "2  2015-02-24 11:15:48 -0800      Lets Play  Central Time (US & Canada)  \n",
       "3  2015-02-24 11:15:36 -0800            NaN  Pacific Time (US & Canada)  \n",
       "4  2015-02-24 11:14:45 -0800            NaN  Pacific Time (US & Canada)  "
      ]
     },
     "execution_count": 4,
     "metadata": {},
     "output_type": "execute_result"
    }
   ],
   "source": [
    "data.head()"
   ]
  },
  {
   "cell_type": "code",
   "execution_count": 5,
   "id": "08f891fb",
   "metadata": {},
   "outputs": [
    {
     "data": {
      "text/html": [
       "<div>\n",
       "<style scoped>\n",
       "    .dataframe tbody tr th:only-of-type {\n",
       "        vertical-align: middle;\n",
       "    }\n",
       "\n",
       "    .dataframe tbody tr th {\n",
       "        vertical-align: top;\n",
       "    }\n",
       "\n",
       "    .dataframe thead th {\n",
       "        text-align: right;\n",
       "    }\n",
       "</style>\n",
       "<table border=\"1\" class=\"dataframe\">\n",
       "  <thead>\n",
       "    <tr style=\"text-align: right;\">\n",
       "      <th></th>\n",
       "      <th>airline_sentiment</th>\n",
       "      <th>text</th>\n",
       "    </tr>\n",
       "  </thead>\n",
       "  <tbody>\n",
       "    <tr>\n",
       "      <th>0</th>\n",
       "      <td>neutral</td>\n",
       "      <td>@VirginAmerica What @dhepburn said.</td>\n",
       "    </tr>\n",
       "    <tr>\n",
       "      <th>1</th>\n",
       "      <td>positive</td>\n",
       "      <td>@VirginAmerica plus you've added commercials t...</td>\n",
       "    </tr>\n",
       "    <tr>\n",
       "      <th>2</th>\n",
       "      <td>neutral</td>\n",
       "      <td>@VirginAmerica I didn't today... Must mean I n...</td>\n",
       "    </tr>\n",
       "    <tr>\n",
       "      <th>3</th>\n",
       "      <td>negative</td>\n",
       "      <td>@VirginAmerica it's really aggressive to blast...</td>\n",
       "    </tr>\n",
       "    <tr>\n",
       "      <th>4</th>\n",
       "      <td>negative</td>\n",
       "      <td>@VirginAmerica and it's a really big bad thing...</td>\n",
       "    </tr>\n",
       "  </tbody>\n",
       "</table>\n",
       "</div>"
      ],
      "text/plain": [
       "  airline_sentiment                                               text\n",
       "0           neutral                @VirginAmerica What @dhepburn said.\n",
       "1          positive  @VirginAmerica plus you've added commercials t...\n",
       "2           neutral  @VirginAmerica I didn't today... Must mean I n...\n",
       "3          negative  @VirginAmerica it's really aggressive to blast...\n",
       "4          negative  @VirginAmerica and it's a really big bad thing..."
      ]
     },
     "execution_count": 5,
     "metadata": {},
     "output_type": "execute_result"
    }
   ],
   "source": [
    "# pandas去除列表数据\n",
    "data = data[[\"airline_sentiment\",\"text\"]]\n",
    "data.head()"
   ]
  },
  {
   "cell_type": "code",
   "execution_count": 6,
   "id": "a259ffa0",
   "metadata": {},
   "outputs": [
    {
     "data": {
      "text/plain": [
       "array(['neutral', 'positive', 'negative'], dtype=object)"
      ]
     },
     "execution_count": 6,
     "metadata": {},
     "output_type": "execute_result"
    }
   ],
   "source": [
    "data.airline_sentiment.unique()"
   ]
  },
  {
   "cell_type": "code",
   "execution_count": 7,
   "id": "7eb02cca",
   "metadata": {},
   "outputs": [
    {
     "data": {
      "text/plain": [
       "negative    9178\n",
       "neutral     3099\n",
       "positive    2363\n",
       "Name: airline_sentiment, dtype: int64"
      ]
     },
     "execution_count": 7,
     "metadata": {},
     "output_type": "execute_result"
    }
   ],
   "source": [
    "data.airline_sentiment.value_counts()"
   ]
  },
  {
   "cell_type": "code",
   "execution_count": 8,
   "id": "7ecf0722",
   "metadata": {},
   "outputs": [],
   "source": [
    "positive_data = data[data.airline_sentiment == \"positive\"]\n",
    "negative_data = data[data.airline_sentiment == \"negative\"]\n",
    "negative_data = negative_data.iloc[:len(positive_data)]"
   ]
  },
  {
   "cell_type": "code",
   "execution_count": 9,
   "id": "ed2cadf2",
   "metadata": {},
   "outputs": [
    {
     "data": {
      "text/plain": [
       "(2363, 2363)"
      ]
     },
     "execution_count": 9,
     "metadata": {},
     "output_type": "execute_result"
    }
   ],
   "source": [
    "len(positive_data),len(negative_data)"
   ]
  },
  {
   "cell_type": "code",
   "execution_count": 10,
   "id": "e12c7deb",
   "metadata": {},
   "outputs": [],
   "source": [
    "data = pd.concat([positive_data,negative_data])"
   ]
  },
  {
   "cell_type": "code",
   "execution_count": 11,
   "id": "fc67d775",
   "metadata": {},
   "outputs": [],
   "source": [
    "data = data.sample(len(data))"
   ]
  },
  {
   "cell_type": "code",
   "execution_count": 12,
   "id": "4c9a54fc",
   "metadata": {},
   "outputs": [],
   "source": [
    "data[\"review\"] = (data.airline_sentiment == \"positive\").astype(\"int\")"
   ]
  },
  {
   "cell_type": "code",
   "execution_count": 13,
   "id": "53e00b1a",
   "metadata": {},
   "outputs": [
    {
     "data": {
      "text/html": [
       "<div>\n",
       "<style scoped>\n",
       "    .dataframe tbody tr th:only-of-type {\n",
       "        vertical-align: middle;\n",
       "    }\n",
       "\n",
       "    .dataframe tbody tr th {\n",
       "        vertical-align: top;\n",
       "    }\n",
       "\n",
       "    .dataframe thead th {\n",
       "        text-align: right;\n",
       "    }\n",
       "</style>\n",
       "<table border=\"1\" class=\"dataframe\">\n",
       "  <thead>\n",
       "    <tr style=\"text-align: right;\">\n",
       "      <th></th>\n",
       "      <th>airline_sentiment</th>\n",
       "      <th>text</th>\n",
       "      <th>review</th>\n",
       "    </tr>\n",
       "  </thead>\n",
       "  <tbody>\n",
       "    <tr>\n",
       "      <th>3363</th>\n",
       "      <td>negative</td>\n",
       "      <td>@united I work in customer support- extremely ...</td>\n",
       "      <td>0</td>\n",
       "    </tr>\n",
       "    <tr>\n",
       "      <th>14529</th>\n",
       "      <td>positive</td>\n",
       "      <td>@AmericanAir  Mad love http://t.co/4ojrSDWPkK ...</td>\n",
       "      <td>1</td>\n",
       "    </tr>\n",
       "    <tr>\n",
       "      <th>3241</th>\n",
       "      <td>negative</td>\n",
       "      <td>@united worst airline ever! Staff is nasty, wi...</td>\n",
       "      <td>0</td>\n",
       "    </tr>\n",
       "    <tr>\n",
       "      <th>1476</th>\n",
       "      <td>negative</td>\n",
       "      <td>@united Thanks for the vague canned response t...</td>\n",
       "      <td>0</td>\n",
       "    </tr>\n",
       "    <tr>\n",
       "      <th>7738</th>\n",
       "      <td>positive</td>\n",
       "      <td>@JetBlue on the plane now!  Hopefully no longe...</td>\n",
       "      <td>1</td>\n",
       "    </tr>\n",
       "    <tr>\n",
       "      <th>...</th>\n",
       "      <td>...</td>\n",
       "      <td>...</td>\n",
       "      <td>...</td>\n",
       "    </tr>\n",
       "    <tr>\n",
       "      <th>3058</th>\n",
       "      <td>negative</td>\n",
       "      <td>@united don't know if you are aware that ALL o...</td>\n",
       "      <td>0</td>\n",
       "    </tr>\n",
       "    <tr>\n",
       "      <th>2106</th>\n",
       "      <td>negative</td>\n",
       "      <td>@united I'm still trying to get things worked ...</td>\n",
       "      <td>0</td>\n",
       "    </tr>\n",
       "    <tr>\n",
       "      <th>2712</th>\n",
       "      <td>positive</td>\n",
       "      <td>@united give her the recognition she deserves!</td>\n",
       "      <td>1</td>\n",
       "    </tr>\n",
       "    <tr>\n",
       "      <th>3012</th>\n",
       "      <td>negative</td>\n",
       "      <td>@united is the worst http://t.co/27aitZl6nd</td>\n",
       "      <td>0</td>\n",
       "    </tr>\n",
       "    <tr>\n",
       "      <th>1458</th>\n",
       "      <td>negative</td>\n",
       "      <td>@united - Going on 3 days (tomorrow) and I sti...</td>\n",
       "      <td>0</td>\n",
       "    </tr>\n",
       "  </tbody>\n",
       "</table>\n",
       "<p>4726 rows × 3 columns</p>\n",
       "</div>"
      ],
      "text/plain": [
       "      airline_sentiment                                               text  \\\n",
       "3363           negative  @united I work in customer support- extremely ...   \n",
       "14529          positive  @AmericanAir  Mad love http://t.co/4ojrSDWPkK ...   \n",
       "3241           negative  @united worst airline ever! Staff is nasty, wi...   \n",
       "1476           negative  @united Thanks for the vague canned response t...   \n",
       "7738           positive  @JetBlue on the plane now!  Hopefully no longe...   \n",
       "...                 ...                                                ...   \n",
       "3058           negative  @united don't know if you are aware that ALL o...   \n",
       "2106           negative  @united I'm still trying to get things worked ...   \n",
       "2712           positive     @united give her the recognition she deserves!   \n",
       "3012           negative        @united is the worst http://t.co/27aitZl6nd   \n",
       "1458           negative  @united - Going on 3 days (tomorrow) and I sti...   \n",
       "\n",
       "       review  \n",
       "3363        0  \n",
       "14529       1  \n",
       "3241        0  \n",
       "1476        0  \n",
       "7738        1  \n",
       "...       ...  \n",
       "3058        0  \n",
       "2106        0  \n",
       "2712        1  \n",
       "3012        0  \n",
       "1458        0  \n",
       "\n",
       "[4726 rows x 3 columns]"
      ]
     },
     "execution_count": 13,
     "metadata": {},
     "output_type": "execute_result"
    }
   ],
   "source": [
    "data"
   ]
  },
  {
   "cell_type": "code",
   "execution_count": 14,
   "id": "96dbfeff",
   "metadata": {},
   "outputs": [],
   "source": [
    "del data[\"airline_sentiment\"]"
   ]
  },
  {
   "cell_type": "code",
   "execution_count": 15,
   "id": "61b2d303",
   "metadata": {},
   "outputs": [
    {
     "data": {
      "text/html": [
       "<div>\n",
       "<style scoped>\n",
       "    .dataframe tbody tr th:only-of-type {\n",
       "        vertical-align: middle;\n",
       "    }\n",
       "\n",
       "    .dataframe tbody tr th {\n",
       "        vertical-align: top;\n",
       "    }\n",
       "\n",
       "    .dataframe thead th {\n",
       "        text-align: right;\n",
       "    }\n",
       "</style>\n",
       "<table border=\"1\" class=\"dataframe\">\n",
       "  <thead>\n",
       "    <tr style=\"text-align: right;\">\n",
       "      <th></th>\n",
       "      <th>text</th>\n",
       "      <th>review</th>\n",
       "    </tr>\n",
       "  </thead>\n",
       "  <tbody>\n",
       "    <tr>\n",
       "      <th>3363</th>\n",
       "      <td>@united I work in customer support- extremely ...</td>\n",
       "      <td>0</td>\n",
       "    </tr>\n",
       "    <tr>\n",
       "      <th>14529</th>\n",
       "      <td>@AmericanAir  Mad love http://t.co/4ojrSDWPkK ...</td>\n",
       "      <td>1</td>\n",
       "    </tr>\n",
       "    <tr>\n",
       "      <th>3241</th>\n",
       "      <td>@united worst airline ever! Staff is nasty, wi...</td>\n",
       "      <td>0</td>\n",
       "    </tr>\n",
       "    <tr>\n",
       "      <th>1476</th>\n",
       "      <td>@united Thanks for the vague canned response t...</td>\n",
       "      <td>0</td>\n",
       "    </tr>\n",
       "    <tr>\n",
       "      <th>7738</th>\n",
       "      <td>@JetBlue on the plane now!  Hopefully no longe...</td>\n",
       "      <td>1</td>\n",
       "    </tr>\n",
       "    <tr>\n",
       "      <th>...</th>\n",
       "      <td>...</td>\n",
       "      <td>...</td>\n",
       "    </tr>\n",
       "    <tr>\n",
       "      <th>3058</th>\n",
       "      <td>@united don't know if you are aware that ALL o...</td>\n",
       "      <td>0</td>\n",
       "    </tr>\n",
       "    <tr>\n",
       "      <th>2106</th>\n",
       "      <td>@united I'm still trying to get things worked ...</td>\n",
       "      <td>0</td>\n",
       "    </tr>\n",
       "    <tr>\n",
       "      <th>2712</th>\n",
       "      <td>@united give her the recognition she deserves!</td>\n",
       "      <td>1</td>\n",
       "    </tr>\n",
       "    <tr>\n",
       "      <th>3012</th>\n",
       "      <td>@united is the worst http://t.co/27aitZl6nd</td>\n",
       "      <td>0</td>\n",
       "    </tr>\n",
       "    <tr>\n",
       "      <th>1458</th>\n",
       "      <td>@united - Going on 3 days (tomorrow) and I sti...</td>\n",
       "      <td>0</td>\n",
       "    </tr>\n",
       "  </tbody>\n",
       "</table>\n",
       "<p>4726 rows × 2 columns</p>\n",
       "</div>"
      ],
      "text/plain": [
       "                                                    text  review\n",
       "3363   @united I work in customer support- extremely ...       0\n",
       "14529  @AmericanAir  Mad love http://t.co/4ojrSDWPkK ...       1\n",
       "3241   @united worst airline ever! Staff is nasty, wi...       0\n",
       "1476   @united Thanks for the vague canned response t...       0\n",
       "7738   @JetBlue on the plane now!  Hopefully no longe...       1\n",
       "...                                                  ...     ...\n",
       "3058   @united don't know if you are aware that ALL o...       0\n",
       "2106   @united I'm still trying to get things worked ...       0\n",
       "2712      @united give her the recognition she deserves!       1\n",
       "3012         @united is the worst http://t.co/27aitZl6nd       0\n",
       "1458   @united - Going on 3 days (tomorrow) and I sti...       0\n",
       "\n",
       "[4726 rows x 2 columns]"
      ]
     },
     "execution_count": 15,
     "metadata": {},
     "output_type": "execute_result"
    }
   ],
   "source": [
    "data"
   ]
  },
  {
   "cell_type": "markdown",
   "id": "70453b74",
   "metadata": {},
   "source": [
    "__tf.keras.layers.Embedding把文本向量化__"
   ]
  },
  {
   "cell_type": "code",
   "execution_count": 16,
   "id": "69d6fc23",
   "metadata": {},
   "outputs": [],
   "source": [
    "import re"
   ]
  },
  {
   "cell_type": "code",
   "execution_count": 17,
   "id": "f8cb2bd6",
   "metadata": {},
   "outputs": [],
   "source": [
    "token = re.compile(\"[A-Za-z]+|[!?,.()]\")"
   ]
  },
  {
   "cell_type": "code",
   "execution_count": 18,
   "id": "bdeceead",
   "metadata": {},
   "outputs": [],
   "source": [
    "def reg_text(text):\n",
    "    new_text = token.findall(text)\n",
    "    new_text = [word.lower() for word in new_text]\n",
    "    return new_text"
   ]
  },
  {
   "cell_type": "code",
   "execution_count": 19,
   "id": "d22f9b5b",
   "metadata": {},
   "outputs": [],
   "source": [
    "# 文本规范化\n",
    "data[\"text\"] = data.text.apply(reg_text)"
   ]
  },
  {
   "cell_type": "code",
   "execution_count": 20,
   "id": "917f496f",
   "metadata": {},
   "outputs": [],
   "source": [
    "# 英文单词每一个对应成一个整数序列\n",
    "word_set = set()\n",
    "for text in data.text:\n",
    "    for word in text:\n",
    "        word_set.add(word)"
   ]
  },
  {
   "cell_type": "code",
   "execution_count": 21,
   "id": "84a51efd",
   "metadata": {},
   "outputs": [],
   "source": [
    "maxword = len(word_set) + 1"
   ]
  },
  {
   "cell_type": "code",
   "execution_count": 22,
   "id": "7cfc1543",
   "metadata": {},
   "outputs": [],
   "source": [
    "word_list = list(word_set)"
   ]
  },
  {
   "cell_type": "code",
   "execution_count": 23,
   "id": "572db2a4",
   "metadata": {},
   "outputs": [
    {
     "data": {
      "text/plain": [
       "3403"
      ]
     },
     "execution_count": 23,
     "metadata": {},
     "output_type": "execute_result"
    }
   ],
   "source": [
    "word_list.index(\"spending\")"
   ]
  },
  {
   "cell_type": "code",
   "execution_count": 24,
   "id": "2cbca060",
   "metadata": {},
   "outputs": [],
   "source": [
    "word_index_dict = dict((word, word_list.index(word)+1) for word in word_list)"
   ]
  },
  {
   "cell_type": "code",
   "execution_count": 25,
   "id": "e92500d0",
   "metadata": {},
   "outputs": [],
   "source": [
    "data_train_data = data.text.apply(lambda x: [word_index_dict.get(word, 0) for word in x])"
   ]
  },
  {
   "cell_type": "code",
   "execution_count": 26,
   "id": "c3d2bda4",
   "metadata": {},
   "outputs": [
    {
     "data": {
      "text/plain": [
       "array([list([3605, 2792, 5691, 1718, 2349, 2774, 1511, 5934, 3605, 6202, 5240, 3917, 6237, 722, 790, 862, 2792, 3163, 3983, 288, 3943, 621, 3983, 4109, 4063, 5110, 4692]),\n",
       "       list([5266, 3434, 4059, 2583, 5240, 4692, 5366, 1484, 1446]),\n",
       "       list([3605, 4603, 4467, 757, 4829, 2570, 3570, 5495, 5873, 22, 2968, 1212, 1605, 579, 621, 3983, 6946, 2100, 2100, 4952, 593, 1107, 2108, 3570, 1962, 4692, 2219, 6989, 4580, 1718, 6820]),\n",
       "       ..., list([3605, 3220, 1360, 1107, 5605, 2935, 3148, 4829]),\n",
       "       list([3605, 3570, 1107, 4603, 2583, 5240, 4692, 5366, 843, 4332]),\n",
       "       list([3605, 3207, 877, 3818, 1423, 2835, 5826, 4952, 2792, 3903, 6687, 5240, 61, 5249, 6565, 1267, 5249, 3943, 3983, 199, 4692, 740, 4059, 3983, 1496, 4629, 576, 4996, 4692])],\n",
       "      dtype=object)"
      ]
     },
     "execution_count": 26,
     "metadata": {},
     "output_type": "execute_result"
    }
   ],
   "source": [
    "data_train_data.values"
   ]
  },
  {
   "cell_type": "code",
   "execution_count": 27,
   "id": "f76652de",
   "metadata": {},
   "outputs": [],
   "source": [
    "maxlen = max(len(x) for x in data_train_data)"
   ]
  },
  {
   "cell_type": "code",
   "execution_count": 28,
   "id": "a6e9f6ab",
   "metadata": {},
   "outputs": [],
   "source": [
    "data_train_data = keras.preprocessing.sequence.pad_sequences(data_train_data.values, maxlen=maxlen)"
   ]
  },
  {
   "cell_type": "code",
   "execution_count": 29,
   "id": "85b1fa8e",
   "metadata": {},
   "outputs": [
    {
     "data": {
      "text/plain": [
       "(4726, 40)"
      ]
     },
     "execution_count": 29,
     "metadata": {},
     "output_type": "execute_result"
    }
   ],
   "source": [
    "data_train_data.shape"
   ]
  },
  {
   "cell_type": "code",
   "execution_count": 30,
   "id": "7b6ac3b3",
   "metadata": {},
   "outputs": [
    {
     "data": {
      "text/plain": [
       "array([0, 1, 0, ..., 1, 0, 0])"
      ]
     },
     "execution_count": 30,
     "metadata": {},
     "output_type": "execute_result"
    }
   ],
   "source": [
    "data.review.values"
   ]
  },
  {
   "cell_type": "code",
   "execution_count": 31,
   "id": "96f511c4",
   "metadata": {},
   "outputs": [],
   "source": [
    "model = keras.Sequential()"
   ]
  },
  {
   "cell_type": "markdown",
   "id": "a71f5a61",
   "metadata": {},
   "source": [
    "Embeding : 把文本映射为一个密集向量"
   ]
  },
  {
   "cell_type": "code",
   "execution_count": 32,
   "id": "31f98bb2",
   "metadata": {},
   "outputs": [],
   "source": [
    "model.add(layers.Embedding(maxword, 50, input_length=maxlen))"
   ]
  },
  {
   "cell_type": "code",
   "execution_count": 33,
   "id": "1b978692",
   "metadata": {},
   "outputs": [],
   "source": [
    "model.add(layers.LSTM(64))"
   ]
  },
  {
   "cell_type": "code",
   "execution_count": 34,
   "id": "db663479",
   "metadata": {},
   "outputs": [],
   "source": [
    "model.add(layers.Dense(1, activation=\"sigmoid\"))"
   ]
  },
  {
   "cell_type": "code",
   "execution_count": 35,
   "id": "54502223",
   "metadata": {},
   "outputs": [
    {
     "name": "stdout",
     "output_type": "stream",
     "text": [
      "Model: \"sequential\"\n",
      "_________________________________________________________________\n",
      " Layer (type)                Output Shape              Param #   \n",
      "=================================================================\n",
      " embedding (Embedding)       (None, 40, 50)            355050    \n",
      "                                                                 \n",
      " lstm (LSTM)                 (None, 64)                29440     \n",
      "                                                                 \n",
      " dense (Dense)               (None, 1)                 65        \n",
      "                                                                 \n",
      "=================================================================\n",
      "Total params: 384,555\n",
      "Trainable params: 384,555\n",
      "Non-trainable params: 0\n",
      "_________________________________________________________________\n"
     ]
    }
   ],
   "source": [
    "model.summary()"
   ]
  },
  {
   "cell_type": "code",
   "execution_count": 36,
   "id": "a6d2c670",
   "metadata": {},
   "outputs": [],
   "source": [
    "model.compile(\n",
    "    optimizer=\"adam\",\n",
    "    loss=\"binary_crossentropy\",\n",
    "    metrics=[\"acc\"]\n",
    ")"
   ]
  },
  {
   "cell_type": "code",
   "execution_count": 37,
   "id": "bb43584a",
   "metadata": {},
   "outputs": [
    {
     "name": "stdout",
     "output_type": "stream",
     "text": [
      "Epoch 1/10\n",
      "30/30 [==============================] - 5s 66ms/step - loss: 0.6312 - acc: 0.7000 - val_loss: 0.5248 - val_acc: 0.7421\n",
      "Epoch 2/10\n",
      "30/30 [==============================] - 1s 49ms/step - loss: 0.3780 - acc: 0.8362 - val_loss: 0.2463 - val_acc: 0.9006\n",
      "Epoch 3/10\n",
      "30/30 [==============================] - 1s 47ms/step - loss: 0.1562 - acc: 0.9481 - val_loss: 0.2017 - val_acc: 0.9260\n",
      "Epoch 4/10\n",
      "30/30 [==============================] - 1s 45ms/step - loss: 0.0925 - acc: 0.9701 - val_loss: 0.2017 - val_acc: 0.9207\n",
      "Epoch 5/10\n",
      "30/30 [==============================] - 1s 45ms/step - loss: 0.0653 - acc: 0.9820 - val_loss: 0.3151 - val_acc: 0.9049\n",
      "Epoch 6/10\n",
      "30/30 [==============================] - 1s 45ms/step - loss: 0.0423 - acc: 0.9899 - val_loss: 0.2626 - val_acc: 0.9249\n",
      "Epoch 7/10\n",
      "30/30 [==============================] - 1s 49ms/step - loss: 0.0277 - acc: 0.9931 - val_loss: 0.2843 - val_acc: 0.9175\n",
      "Epoch 8/10\n",
      "30/30 [==============================] - 1s 46ms/step - loss: 0.0213 - acc: 0.9952 - val_loss: 0.3271 - val_acc: 0.9133\n",
      "Epoch 9/10\n",
      "30/30 [==============================] - 1s 46ms/step - loss: 0.0147 - acc: 0.9966 - val_loss: 0.3689 - val_acc: 0.9070\n",
      "Epoch 10/10\n",
      "30/30 [==============================] - 1s 46ms/step - loss: 0.0137 - acc: 0.9968 - val_loss: 0.3837 - val_acc: 0.9133\n"
     ]
    }
   ],
   "source": [
    "history = model.fit(\n",
    "    data_train_data,\n",
    "    data.review.values,\n",
    "    epochs=10,\n",
    "    batch_size=128,\n",
    "    validation_split=0.2\n",
    ")"
   ]
  }
 ],
 "metadata": {
  "kernelspec": {
   "display_name": "learn-tensorflow",
   "language": "python",
   "name": "learn-tensorflow"
  },
  "language_info": {
   "codemirror_mode": {
    "name": "ipython",
    "version": 3
   },
   "file_extension": ".py",
   "mimetype": "text/x-python",
   "name": "python",
   "nbconvert_exporter": "python",
   "pygments_lexer": "ipython3",
   "version": "3.7.13"
  }
 },
 "nbformat": 4,
 "nbformat_minor": 5
}
