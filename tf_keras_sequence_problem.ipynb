{
 "cells": [
  {
   "cell_type": "code",
   "execution_count": 1,
   "id": "2ab0e91e",
   "metadata": {},
   "outputs": [],
   "source": [
    "import tensorflow as tf\n",
    "from tensorflow import keras\n",
    "from tensorflow.keras import layers"
   ]
  },
  {
   "cell_type": "code",
   "execution_count": 2,
   "id": "317a84f3",
   "metadata": {},
   "outputs": [],
   "source": [
    "data = keras.datasets.imdb"
   ]
  },
  {
   "cell_type": "code",
   "execution_count": 3,
   "id": "f602f9b1",
   "metadata": {},
   "outputs": [],
   "source": [
    "max_word = 10000"
   ]
  },
  {
   "cell_type": "code",
   "execution_count": 4,
   "id": "3b4db254",
   "metadata": {},
   "outputs": [],
   "source": [
    "(x_train, y_train), (x_test, y_test) = data.load_data(num_words=max_word)"
   ]
  },
  {
   "cell_type": "code",
   "execution_count": 5,
   "id": "da495e45",
   "metadata": {},
   "outputs": [],
   "source": [
    "x_train = keras.preprocessing.sequence.pad_sequences(x_train, 300)\n",
    "x_test = keras.preprocessing.sequence.pad_sequences(x_test, 300)"
   ]
  },
  {
   "cell_type": "code",
   "execution_count": 6,
   "id": "16da327d",
   "metadata": {},
   "outputs": [
    {
     "data": {
      "text/plain": [
       "array([1, 0, 0, ..., 0, 1, 0], dtype=int64)"
      ]
     },
     "execution_count": 6,
     "metadata": {},
     "output_type": "execute_result"
    }
   ],
   "source": [
    "y_train"
   ]
  },
  {
   "cell_type": "code",
   "execution_count": 7,
   "id": "32b3ccf4",
   "metadata": {},
   "outputs": [],
   "source": [
    "model = keras.models.Sequential()"
   ]
  },
  {
   "cell_type": "code",
   "execution_count": 8,
   "id": "b48b24b7",
   "metadata": {},
   "outputs": [],
   "source": [
    "model.add(layers.Embedding(10000, 50, input_length = 300))"
   ]
  },
  {
   "cell_type": "code",
   "execution_count": 9,
   "id": "53a2a6ab",
   "metadata": {},
   "outputs": [
    {
     "data": {
      "text/plain": [
       "(25000, 300)"
      ]
     },
     "execution_count": 9,
     "metadata": {},
     "output_type": "execute_result"
    }
   ],
   "source": [
    "x_train.shape"
   ]
  },
  {
   "cell_type": "markdown",
   "id": "549cc8c8",
   "metadata": {},
   "source": [
    "现在数据变成了25000，300，50"
   ]
  },
  {
   "cell_type": "code",
   "execution_count": 10,
   "id": "dcaa077a",
   "metadata": {},
   "outputs": [],
   "source": [
    "# model.add(layers.Flatten())\n",
    "model.add(layers.GlobalAveragePooling1D())"
   ]
  },
  {
   "cell_type": "code",
   "execution_count": 11,
   "id": "7498df0c",
   "metadata": {},
   "outputs": [],
   "source": [
    "model.add(layers.Dense(128, activation=\"relu\"))"
   ]
  },
  {
   "cell_type": "code",
   "execution_count": 12,
   "id": "69bcf0da",
   "metadata": {},
   "outputs": [],
   "source": [
    "model.add(layers.Dropout(0.5))"
   ]
  },
  {
   "cell_type": "code",
   "execution_count": 13,
   "id": "8abfedc0",
   "metadata": {},
   "outputs": [],
   "source": [
    "model.add(layers.Dense(1,activation=\"sigmoid\"))"
   ]
  },
  {
   "cell_type": "code",
   "execution_count": 14,
   "id": "f02352d0",
   "metadata": {},
   "outputs": [
    {
     "name": "stdout",
     "output_type": "stream",
     "text": [
      "Model: \"sequential\"\n",
      "_________________________________________________________________\n",
      " Layer (type)                Output Shape              Param #   \n",
      "=================================================================\n",
      " embedding (Embedding)       (None, 300, 50)           500000    \n",
      "                                                                 \n",
      " global_average_pooling1d (G  (None, 50)               0         \n",
      " lobalAveragePooling1D)                                          \n",
      "                                                                 \n",
      " dense (Dense)               (None, 128)               6528      \n",
      "                                                                 \n",
      " dropout (Dropout)           (None, 128)               0         \n",
      "                                                                 \n",
      " dense_1 (Dense)             (None, 1)                 129       \n",
      "                                                                 \n",
      "=================================================================\n",
      "Total params: 506,657\n",
      "Trainable params: 506,657\n",
      "Non-trainable params: 0\n",
      "_________________________________________________________________\n"
     ]
    }
   ],
   "source": [
    "model.summary()"
   ]
  },
  {
   "cell_type": "code",
   "execution_count": 15,
   "id": "b64f0227",
   "metadata": {},
   "outputs": [],
   "source": [
    "model.compile(\n",
    "    optimizer=keras.optimizers.Adam(learning_rate=0.001),\n",
    "    loss=\"binary_crossentropy\",\n",
    "    metrics=[\"acc\"]\n",
    ")"
   ]
  },
  {
   "cell_type": "code",
   "execution_count": 16,
   "id": "97e756ba",
   "metadata": {},
   "outputs": [
    {
     "name": "stdout",
     "output_type": "stream",
     "text": [
      "Epoch 1/15\n",
      "98/98 [==============================] - 4s 28ms/step - loss: 0.6729 - acc: 0.6211 - val_loss: 0.6060 - val_acc: 0.7745\n",
      "Epoch 2/15\n",
      "98/98 [==============================] - 2s 25ms/step - loss: 0.4553 - acc: 0.8293 - val_loss: 0.3590 - val_acc: 0.8584\n",
      "Epoch 3/15\n",
      "98/98 [==============================] - 2s 25ms/step - loss: 0.2957 - acc: 0.8869 - val_loss: 0.3020 - val_acc: 0.8773\n",
      "Epoch 4/15\n",
      "98/98 [==============================] - 2s 25ms/step - loss: 0.2389 - acc: 0.9097 - val_loss: 0.2849 - val_acc: 0.8825\n",
      "Epoch 5/15\n",
      "98/98 [==============================] - 2s 25ms/step - loss: 0.2032 - acc: 0.9258 - val_loss: 0.2860 - val_acc: 0.8852\n",
      "Epoch 6/15\n",
      "98/98 [==============================] - 2s 25ms/step - loss: 0.1780 - acc: 0.9356 - val_loss: 0.2868 - val_acc: 0.8839\n",
      "Epoch 7/15\n",
      "98/98 [==============================] - 2s 25ms/step - loss: 0.1585 - acc: 0.9450 - val_loss: 0.2957 - val_acc: 0.8831\n",
      "Epoch 8/15\n",
      "98/98 [==============================] - 2s 25ms/step - loss: 0.1437 - acc: 0.9518 - val_loss: 0.3139 - val_acc: 0.8769\n",
      "Epoch 9/15\n",
      "98/98 [==============================] - 3s 26ms/step - loss: 0.1288 - acc: 0.9568 - val_loss: 0.3220 - val_acc: 0.8788\n",
      "Epoch 10/15\n",
      "98/98 [==============================] - 3s 28ms/step - loss: 0.1181 - acc: 0.9614 - val_loss: 0.3346 - val_acc: 0.8759\n",
      "Epoch 11/15\n",
      "98/98 [==============================] - 3s 27ms/step - loss: 0.1067 - acc: 0.9670 - val_loss: 0.3521 - val_acc: 0.8733\n",
      "Epoch 12/15\n",
      "98/98 [==============================] - 3s 27ms/step - loss: 0.0959 - acc: 0.9711 - val_loss: 0.3702 - val_acc: 0.8700\n",
      "Epoch 13/15\n",
      "98/98 [==============================] - 3s 28ms/step - loss: 0.0893 - acc: 0.9748 - val_loss: 0.3901 - val_acc: 0.8690\n",
      "Epoch 14/15\n",
      "98/98 [==============================] - 3s 28ms/step - loss: 0.0800 - acc: 0.9790 - val_loss: 0.4111 - val_acc: 0.8673\n",
      "Epoch 15/15\n",
      "98/98 [==============================] - 3s 28ms/step - loss: 0.0717 - acc: 0.9814 - val_loss: 0.4433 - val_acc: 0.8606\n"
     ]
    }
   ],
   "source": [
    "history = model.fit(x_train, y_train, epochs=15, batch_size = 256, validation_data=(x_test, y_test))"
   ]
  },
  {
   "cell_type": "code",
   "execution_count": 17,
   "id": "21096cec",
   "metadata": {},
   "outputs": [
    {
     "data": {
      "text/plain": [
       "dict_keys(['loss', 'acc', 'val_loss', 'val_acc'])"
      ]
     },
     "execution_count": 17,
     "metadata": {},
     "output_type": "execute_result"
    }
   ],
   "source": [
    "history.history.keys()"
   ]
  },
  {
   "cell_type": "code",
   "execution_count": 18,
   "id": "4bca2ac4",
   "metadata": {},
   "outputs": [],
   "source": [
    "import matplotlib.pyplot as plt"
   ]
  },
  {
   "cell_type": "code",
   "execution_count": 19,
   "id": "d760ea07",
   "metadata": {},
   "outputs": [],
   "source": [
    "%matplotlib inline"
   ]
  },
  {
   "cell_type": "code",
   "execution_count": 20,
   "id": "87d5dbc5",
   "metadata": {},
   "outputs": [
    {
     "data": {
      "text/plain": [
       "[<matplotlib.lines.Line2D at 0x2765ca5fb80>]"
      ]
     },
     "execution_count": 20,
     "metadata": {},
     "output_type": "execute_result"
    },
    {
     "data": {
      "image/png": "[encoded data removed]",
      "text/plain": [
       "<Figure size 640x480 with 1 Axes>"
      ]
     },
     "metadata": {},
     "output_type": "display_data"
    }
   ],
   "source": [
    "plt.plot(history.epoch, history.history[\"loss\"], \"r\")\n",
    "plt.plot(history.epoch, history.history[\"val_loss\"], \"b--\")"
   ]
  },
  {
   "cell_type": "code",
   "execution_count": 21,
   "id": "f2cfb960",
   "metadata": {},
   "outputs": [
    {
     "data": {
      "text/plain": [
       "[<matplotlib.lines.Line2D at 0x2765de93d60>]"
      ]
     },
     "execution_count": 21,
     "metadata": {},
     "output_type": "execute_result"
    },
    {
     "data": {
      "image/png": "[encoded data removed]",
      "text/plain": [
       "<Figure size 640x480 with 1 Axes>"
      ]
     },
     "metadata": {},
     "output_type": "display_data"
    }
   ],
   "source": [
    "plt.plot(history.epoch, history.history[\"acc\"], \"r\")\n",
    "plt.plot(history.epoch, history.history[\"val_acc\"], \"b--\")"
   ]
  },
  {
   "cell_type": "code",
   "execution_count": null,
   "id": "309e3bf1",
   "metadata": {},
   "outputs": [],
   "source": []
  }
 ],
 "metadata": {
  "kernelspec": {
   "display_name": "Python 3 (ipykernel)",
   "language": "python",
   "name": "python3"
  },
  "language_info": {
   "codemirror_mode": {
    "name": "ipython",
    "version": 3
   },
   "file_extension": ".py",
   "mimetype": "text/x-python",
   "name": "python",
   "nbconvert_exporter": "python",
   "pygments_lexer": "ipython3",
   "version": "3.8.13"
  }
 },
 "nbformat": 4,
 "nbformat_minor": 5
}
