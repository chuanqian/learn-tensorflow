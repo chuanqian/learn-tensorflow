{
 "cells": [
  {
   "cell_type": "code",
   "execution_count": 1,
   "id": "74f0c652",
   "metadata": {},
   "outputs": [],
   "source": [
    "import tensorflow as tf"
   ]
  },
  {
   "cell_type": "code",
   "execution_count": 2,
   "id": "8e758f8a",
   "metadata": {},
   "outputs": [
    {
     "name": "stdout",
     "output_type": "stream",
     "text": [
      "Tensorflow version: 2.10.0\n"
     ]
    }
   ],
   "source": [
    "print(\"Tensorflow version: {}\".format(tf.__version__))"
   ]
  },
  {
   "cell_type": "code",
   "execution_count": 3,
   "id": "49b26d42",
   "metadata": {},
   "outputs": [],
   "source": [
    "(train_image, train_label), (test_image, test_label) = tf.keras.datasets.mnist.load_data()"
   ]
  },
  {
   "cell_type": "code",
   "execution_count": 4,
   "id": "d63f0e07",
   "metadata": {},
   "outputs": [],
   "source": [
    "train_image = train_image / 255\n",
    "test_image = test_image / 255"
   ]
  },
  {
   "cell_type": "code",
   "execution_count": 5,
   "id": "93b3da6d",
   "metadata": {},
   "outputs": [],
   "source": [
    "ds_train_image = tf.data.Dataset.from_tensor_slices(train_image)"
   ]
  },
  {
   "cell_type": "code",
   "execution_count": 6,
   "id": "d6939b83",
   "metadata": {},
   "outputs": [],
   "source": [
    "ds_train_label = tf.data.Dataset.from_tensor_slices(train_label)"
   ]
  },
  {
   "cell_type": "code",
   "execution_count": 7,
   "id": "2d4808bc",
   "metadata": {},
   "outputs": [],
   "source": [
    "ds_train = tf.data.Dataset.zip((ds_train_image,ds_train_label))"
   ]
  },
  {
   "cell_type": "code",
   "execution_count": 8,
   "id": "91b53124",
   "metadata": {},
   "outputs": [],
   "source": [
    "batch_size = 64"
   ]
  },
  {
   "cell_type": "code",
   "execution_count": 9,
   "id": "ae55f8ba",
   "metadata": {},
   "outputs": [],
   "source": [
    "dataset = ds_train.shuffle(10000).repeat().batch(64)"
   ]
  },
  {
   "cell_type": "code",
   "execution_count": 10,
   "id": "301e871b",
   "metadata": {},
   "outputs": [],
   "source": [
    "model = tf.keras.Sequential([\n",
    "    tf.keras.layers.Flatten(input_shape=(28,28)),\n",
    "    tf.keras.layers.Dense(128,activation=\"relu\"),\n",
    "    tf.keras.layers.Dense(10,activation=\"softmax\")\n",
    "])"
   ]
  },
  {
   "cell_type": "code",
   "execution_count": 11,
   "id": "2ac5bef3",
   "metadata": {},
   "outputs": [
    {
     "name": "stdout",
     "output_type": "stream",
     "text": [
      "Model: \"sequential\"\n",
      "_________________________________________________________________\n",
      " Layer (type)                Output Shape              Param #   \n",
      "=================================================================\n",
      " flatten (Flatten)           (None, 784)               0         \n",
      "                                                                 \n",
      " dense (Dense)               (None, 128)               100480    \n",
      "                                                                 \n",
      " dense_1 (Dense)             (None, 10)                1290      \n",
      "                                                                 \n",
      "=================================================================\n",
      "Total params: 101,770\n",
      "Trainable params: 101,770\n",
      "Non-trainable params: 0\n",
      "_________________________________________________________________\n"
     ]
    }
   ],
   "source": [
    "model.summary()"
   ]
  },
  {
   "cell_type": "code",
   "execution_count": 12,
   "id": "12315758",
   "metadata": {},
   "outputs": [],
   "source": [
    "model.compile(optimizer='adam',\n",
    "              loss='sparse_categorical_crossentropy',\n",
    "              metrics=['accuracy'])"
   ]
  },
  {
   "cell_type": "code",
   "execution_count": 17,
   "id": "3ac3bc20",
   "metadata": {},
   "outputs": [
    {
     "data": {
      "text/plain": [
       "937"
      ]
     },
     "execution_count": 17,
     "metadata": {},
     "output_type": "execute_result"
    }
   ],
   "source": [
    "steps_per_epochs = train_image.shape[0]//batch_size\n",
    "steps_per_epochs"
   ]
  },
  {
   "cell_type": "code",
   "execution_count": 14,
   "id": "d9d84e30",
   "metadata": {},
   "outputs": [],
   "source": [
    "ds_test = tf.data.Dataset.from_tensor_slices((test_image, test_label))"
   ]
  },
  {
   "cell_type": "code",
   "execution_count": 15,
   "id": "2ca247c3",
   "metadata": {},
   "outputs": [],
   "source": [
    "ds_test = ds_test.batch(batch_size)"
   ]
  },
  {
   "cell_type": "code",
   "execution_count": 18,
   "id": "e84fc176",
   "metadata": {},
   "outputs": [
    {
     "name": "stdout",
     "output_type": "stream",
     "text": [
      "Epoch 1/5\n",
      "937/937 [==============================] - 3s 4ms/step - loss: 0.0440 - accuracy: 0.9872 - val_loss: 0.0791 - val_accuracy: 0.9754\n",
      "Epoch 2/5\n",
      "937/937 [==============================] - 4s 4ms/step - loss: 0.0363 - accuracy: 0.9892 - val_loss: 0.0726 - val_accuracy: 0.9772\n",
      "Epoch 3/5\n",
      "937/937 [==============================] - 4s 4ms/step - loss: 0.0287 - accuracy: 0.9917 - val_loss: 0.0734 - val_accuracy: 0.9769\n",
      "Epoch 4/5\n",
      "937/937 [==============================] - 4s 4ms/step - loss: 0.0229 - accuracy: 0.9936 - val_loss: 0.0784 - val_accuracy: 0.9786\n",
      "Epoch 5/5\n",
      "937/937 [==============================] - 4s 4ms/step - loss: 0.0194 - accuracy: 0.9947 - val_loss: 0.0765 - val_accuracy: 0.9778\n"
     ]
    },
    {
     "data": {
      "text/plain": [
       "<keras.callbacks.History at 0x1e967102190>"
      ]
     },
     "execution_count": 18,
     "metadata": {},
     "output_type": "execute_result"
    }
   ],
   "source": [
    "model.fit(\n",
    "    dataset,\n",
    "    epochs=5,\n",
    "    steps_per_epoch=steps_per_epochs,\n",
    "    validation_data=ds_test,\n",
    "    validation_steps=10000//batch_size\n",
    ")"
   ]
  }
 ],
 "metadata": {
  "kernelspec": {
   "display_name": "Python 3 (ipykernel)",
   "language": "python",
   "name": "python3"
  },
  "language_info": {
   "codemirror_mode": {
    "name": "ipython",
    "version": 3
   },
   "file_extension": ".py",
   "mimetype": "text/x-python",
   "name": "python",
   "nbconvert_exporter": "python",
   "pygments_lexer": "ipython3",
   "version": "3.8.13"
  }
 },
 "nbformat": 4,
 "nbformat_minor": 5
}
