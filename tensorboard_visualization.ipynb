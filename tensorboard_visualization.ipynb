{
 "cells": [
  {
   "cell_type": "code",
   "execution_count": 1,
   "id": "86cc404d",
   "metadata": {},
   "outputs": [
    {
     "name": "stdout",
     "output_type": "stream",
     "text": [
      "Tensorflow version: 2.10.0\n",
      "(60000, 28, 28)\n"
     ]
    }
   ],
   "source": [
    "\"\"\"\n",
    "@Name: tensorboard_visualization.py\n",
    "@Auth: cc980\n",
    "@Date: 2022/9/25-14:30\n",
    "@Desc: Tensorboard的可视化\n",
    "@Ver : 1.0.0\n",
    "\"\"\"\n",
    "import keras\n",
    "import tensorflow as tf\n",
    "import datetime\n",
    "import os\n",
    "\n",
    "print(\"Tensorflow version: {}\".format(tf.__version__))\n",
    "(train_image, train_label), (test_image, test_label) = tf.keras.datasets.mnist.load_data()\n",
    "print(train_image.shape)\n",
    "train_image = tf.expand_dims(train_image, -1)\n",
    "test_image = tf.expand_dims(test_image, -1)"
   ]
  },
  {
   "cell_type": "code",
   "execution_count": 2,
   "id": "1d3db977",
   "metadata": {},
   "outputs": [],
   "source": [
    "train_image = tf.cast(train_image / 255, tf.float32)\n",
    "test_image = tf.cast(test_image / 255, tf.float32)\n",
    "train_label = tf.cast(train_label, tf.int64)\n",
    "test_label = tf.cast(test_label, tf.int64)"
   ]
  },
  {
   "cell_type": "code",
   "execution_count": 3,
   "id": "ac44a495",
   "metadata": {},
   "outputs": [],
   "source": [
    "dataset_train = tf.data.Dataset.from_tensor_slices((train_image, train_label))\n",
    "dataset_test = tf.data.Dataset.from_tensor_slices((test_image, test_label))"
   ]
  },
  {
   "cell_type": "code",
   "execution_count": 4,
   "id": "de40bd1b",
   "metadata": {},
   "outputs": [],
   "source": [
    "dataset_train = dataset_train.shuffle(10000).repeat().batch(64)\n",
    "dataset_test = dataset_test.repeat().batch(64)"
   ]
  },
  {
   "cell_type": "code",
   "execution_count": 5,
   "id": "7e0ee852",
   "metadata": {},
   "outputs": [],
   "source": [
    "model = keras.Sequential([\n",
    "    tf.keras.layers.Conv2D(16, [3, 3], input_shape=(28, 28, 1), activation=\"relu\"),\n",
    "    tf.keras.layers.Conv2D(32, [3, 3], activation=\"relu\"),\n",
    "    tf.keras.layers.GlobalMaxPooling2D(),\n",
    "    tf.keras.layers.Dense(10, activation=\"softmax\")\n",
    "])"
   ]
  },
  {
   "cell_type": "code",
   "execution_count": 6,
   "id": "ed0a1a8e",
   "metadata": {},
   "outputs": [
    {
     "name": "stdout",
     "output_type": "stream",
     "text": [
      "Model: \"sequential\"\n",
      "_________________________________________________________________\n",
      " Layer (type)                Output Shape              Param #   \n",
      "=================================================================\n",
      " conv2d (Conv2D)             (None, 26, 26, 16)        160       \n",
      "                                                                 \n",
      " conv2d_1 (Conv2D)           (None, 24, 24, 32)        4640      \n",
      "                                                                 \n",
      " global_max_pooling2d (Globa  (None, 32)               0         \n",
      " lMaxPooling2D)                                                  \n",
      "                                                                 \n",
      " dense (Dense)               (None, 10)                330       \n",
      "                                                                 \n",
      "=================================================================\n",
      "Total params: 5,130\n",
      "Trainable params: 5,130\n",
      "Non-trainable params: 0\n",
      "_________________________________________________________________\n"
     ]
    }
   ],
   "source": [
    "model.summary()"
   ]
  },
  {
   "cell_type": "code",
   "execution_count": 7,
   "id": "1626a2a3",
   "metadata": {},
   "outputs": [],
   "source": [
    "model.compile(\n",
    "    optimizer=tf.keras.optimizers.Adam(learning_rate=0.001),\n",
    "    loss=tf.keras.losses.SparseCategoricalCrossentropy(),\n",
    "    metrics=[\"acc\"]\n",
    ")"
   ]
  },
  {
   "cell_type": "code",
   "execution_count": 8,
   "id": "845612ed",
   "metadata": {},
   "outputs": [],
   "source": [
    "log_dir = os.path.join(\"logs\", datetime.datetime.now().strftime(\"%Y%m%d-%H%M%S\"))\n",
    "tensorboard_callback = tf.keras.callbacks.TensorBoard(log_dir, histogram_freq=1)"
   ]
  },
  {
   "cell_type": "code",
   "execution_count": 9,
   "id": "8c1907a8",
   "metadata": {},
   "outputs": [
    {
     "name": "stdout",
     "output_type": "stream",
     "text": [
      "Epoch 1/5\n",
      "937/937 [==============================] - 62s 64ms/step - loss: 1.0482 - acc: 0.6930 - val_loss: 0.4548 - val_acc: 0.8641\n",
      "Epoch 2/5\n",
      "937/937 [==============================] - 58s 62ms/step - loss: 0.3948 - acc: 0.8767 - val_loss: 0.3453 - val_acc: 0.8923\n",
      "Epoch 3/5\n",
      "937/937 [==============================] - 57s 61ms/step - loss: 0.3247 - acc: 0.8974 - val_loss: 0.2795 - val_acc: 0.9126\n",
      "Epoch 4/5\n",
      "937/937 [==============================] - 57s 61ms/step - loss: 0.2888 - acc: 0.9080 - val_loss: 0.2570 - val_acc: 0.9209\n",
      "Epoch 5/5\n",
      "937/937 [==============================] - 60s 64ms/step - loss: 0.2656 - acc: 0.9155 - val_loss: 0.2487 - val_acc: 0.9230\n"
     ]
    },
    {
     "data": {
      "text/plain": [
       "<keras.callbacks.History at 0x1bbbde15d88>"
      ]
     },
     "execution_count": 9,
     "metadata": {},
     "output_type": "execute_result"
    }
   ],
   "source": [
    "model.fit(\n",
    "    dataset_train,\n",
    "    epochs=5,\n",
    "    steps_per_epoch=60000//64,\n",
    "    validation_data=dataset_test,\n",
    "    validation_steps=10000//64,\n",
    "    callbacks=[tensorboard_callback]\n",
    ")"
   ]
  },
  {
   "cell_type": "markdown",
   "id": "70059f91",
   "metadata": {},
   "source": [
    "### 记录自定义标量\n",
    "重新调整回归模型并记录自定义学习率。这是如何做：\n",
    "使用创建文件编写器tf.summary.create_file_writer().\n",
    "定义自定义学习率功能，这将传递给Keras LearningRateScheduler回调。\n",
    "在学习率功能内，用户tf.summary.scalar()记录自定义学习率。\n",
    "将LearningRateScheduler回调传递给Model.fit()。\n",
    "通常，要记录自定义标量，您需要使用tf.summary.scalar()文件编写器。文件编写器负责将此运行的数据写入指定的目录，并在使用时隐式使用tf.summary.scalar()\n"
   ]
  }
 ],
 "metadata": {
  "kernelspec": {
   "display_name": "Python 3 (ipykernel)",
   "language": "python",
   "name": "python3"
  },
  "language_info": {
   "codemirror_mode": {
    "name": "ipython",
    "version": 3
   },
   "file_extension": ".py",
   "mimetype": "text/x-python",
   "name": "python",
   "nbconvert_exporter": "python",
   "pygments_lexer": "ipython3",
   "version": "3.7.12"
  }
 },
 "nbformat": 4,
 "nbformat_minor": 5
}
