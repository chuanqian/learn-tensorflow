{
 "cells": [
  {
   "cell_type": "code",
   "execution_count": 1,
   "id": "370f2969",
   "metadata": {},
   "outputs": [],
   "source": [
    "import tensorflow as tf\n",
    "from tensorflow import keras\n",
    "from tensorflow.keras import layers\n",
    "import numpy as np\n",
    "import pandas as pd\n",
    "import matplotlib.pyplot as plt\n",
    "%matplotlib inline"
   ]
  },
  {
   "cell_type": "code",
   "execution_count": 2,
   "id": "049877d5",
   "metadata": {},
   "outputs": [
    {
     "name": "stdout",
     "output_type": "stream",
     "text": [
      "Tensorflow version: 2.10.0\n"
     ]
    }
   ],
   "source": [
    "print(\"Tensorflow version: {}\".format(tf.__version__))"
   ]
  },
  {
   "cell_type": "code",
   "execution_count": 3,
   "id": "9ecd384d",
   "metadata": {},
   "outputs": [],
   "source": [
    "data = pd.read_csv(\"./dataset/PRSA_data_2010.1.1-2014.12.31.csv\")"
   ]
  },
  {
   "cell_type": "code",
   "execution_count": 8,
   "id": "8033ee7c",
   "metadata": {},
   "outputs": [],
   "source": [
    "# 把前天的PM2.5的数据填充到Nan中\n",
    "data = data.iloc[24:].fillna(method=\"ffill\")"
   ]
  },
  {
   "cell_type": "code",
   "execution_count": 11,
   "id": "df809080",
   "metadata": {},
   "outputs": [],
   "source": [
    "# 合并时间\n",
    "import datetime"
   ]
  },
  {
   "cell_type": "code",
   "execution_count": 12,
   "id": "7e660613",
   "metadata": {},
   "outputs": [],
   "source": [
    "data[\"tm\"] = data.apply(\n",
    "    lambda x: datetime.datetime(\n",
    "        year=x[\"year\"],\n",
    "        month=x[\"month\"],\n",
    "        day=x[\"day\"],\n",
    "        hour=x[\"hour\"]\n",
    "    ),\n",
    "    axis=1\n",
    ")"
   ]
  },
  {
   "cell_type": "code",
   "execution_count": 14,
   "id": "a79c79ba",
   "metadata": {},
   "outputs": [],
   "source": [
    "data.drop(columns=[\"year\",\"month\",\"day\",\"hour\",\"No\"],inplace=True)"
   ]
  },
  {
   "cell_type": "code",
   "execution_count": 15,
   "id": "345405ff",
   "metadata": {},
   "outputs": [],
   "source": [
    "data = data.set_index(\"tm\")"
   ]
  },
  {
   "cell_type": "code",
   "execution_count": 17,
   "id": "00561263",
   "metadata": {},
   "outputs": [
    {
     "data": {
      "text/plain": [
       "array(['SE', 'cv', 'NW', 'NE'], dtype=object)"
      ]
     },
     "execution_count": 17,
     "metadata": {},
     "output_type": "execute_result"
    }
   ],
   "source": [
    "data.cbwd.unique()"
   ]
  },
  {
   "cell_type": "code",
   "execution_count": 18,
   "id": "15fc07e6",
   "metadata": {},
   "outputs": [],
   "source": [
    "data = data.join(pd.get_dummies(data.cbwd))"
   ]
  },
  {
   "cell_type": "code",
   "execution_count": 20,
   "id": "f80a085c",
   "metadata": {},
   "outputs": [],
   "source": [
    "del data[\"cbwd\"]"
   ]
  },
  {
   "cell_type": "code",
   "execution_count": 25,
   "id": "0af2a31a",
   "metadata": {},
   "outputs": [],
   "source": [
    "seq_length = 5*24\n",
    "delay = 24"
   ]
  },
  {
   "cell_type": "code",
   "execution_count": 26,
   "id": "b8c8c8f3",
   "metadata": {},
   "outputs": [],
   "source": [
    "data_ = []\n",
    "for i in range(len(data) - seq_length - delay):\n",
    "    data_.append(data.iloc[i: i+seq_length+delay])"
   ]
  },
  {
   "cell_type": "code",
   "execution_count": 27,
   "id": "7b3c0455",
   "metadata": {},
   "outputs": [
    {
     "data": {
      "text/plain": [
       "(144, 11)"
      ]
     },
     "execution_count": 27,
     "metadata": {},
     "output_type": "execute_result"
    }
   ],
   "source": [
    "data_[0].shape"
   ]
  },
  {
   "cell_type": "code",
   "execution_count": 28,
   "id": "bf046218",
   "metadata": {},
   "outputs": [],
   "source": [
    "data_ = np.array([df.values for df in data_])"
   ]
  },
  {
   "cell_type": "code",
   "execution_count": 29,
   "id": "0e1f4f5a",
   "metadata": {},
   "outputs": [
    {
     "data": {
      "text/plain": [
       "(43656, 144, 11)"
      ]
     },
     "execution_count": 29,
     "metadata": {},
     "output_type": "execute_result"
    }
   ],
   "source": [
    "data_.shape"
   ]
  },
  {
   "cell_type": "code",
   "execution_count": null,
   "id": "0259a04a",
   "metadata": {},
   "outputs": [],
   "source": []
  }
 ],
 "metadata": {
  "kernelspec": {
   "display_name": "learn-tensorflow",
   "language": "python",
   "name": "learn-tensorflow"
  },
  "language_info": {
   "codemirror_mode": {
    "name": "ipython",
    "version": 3
   },
   "file_extension": ".py",
   "mimetype": "text/x-python",
   "name": "python",
   "nbconvert_exporter": "python",
   "pygments_lexer": "ipython3",
   "version": "3.7.13"
  }
 },
 "nbformat": 4,
 "nbformat_minor": 5
}
